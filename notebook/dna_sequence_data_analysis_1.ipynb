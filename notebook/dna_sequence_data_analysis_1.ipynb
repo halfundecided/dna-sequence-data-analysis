{
  "nbformat": 4,
  "nbformat_minor": 0,
  "metadata": {
    "colab": {
      "name": "dna-sequence-data-analysis-1.ipynb",
      "provenance": []
    },
    "kernelspec": {
      "name": "python3",
      "display_name": "Python 3"
    }
  },
  "cells": [
    {
      "cell_type": "markdown",
      "metadata": {
        "id": "inhqmla7pw7f"
      },
      "source": [
        "## 1. What is BioPhython?\n",
        "The Biopython Project is an international association of developers of freely available Python tools for computational molecular biology.\n",
        "\n",
        "## 2. What is DNA? \n",
        "DNA stands for deoxyribonucleic acid. It's the genetic code that determines all the characteristics of a living thing. Each nucleotide contains a sugar and a phosphate molecule, which make up the 'backbone' of DNA, and, one of four organic bases. The bases are adenine(A), guanine(G), cytosine(C) and thymine(T)"
      ]
    },
    {
      "cell_type": "code",
      "metadata": {
        "id": "FJhtZYhwlbU8"
      },
      "source": [
        "import numpy as np\n",
        "import pandas as pd \n",
        "import os \n",
        "import matplotlib.pyplot as plt\n",
        "%matplotlib inline\n",
        "import seaborn as sns\n",
        "import Bio\n",
        "from Bio.Seq import Seq\n",
        "from Bio.SeqRecord import SeqRecord\n",
        "from Bio import SeqIO\n",
        "from Bio import AlignIO\n",
        "from Bio.pairwise2 import format_alignment \n",
        "from Bio.Align import MultipleSeqAlignment\n",
        "from Bio.Blast import NCBIWWW\n",
        "from Bio.SeqUtils.ProtParam import ProteinAnalysis\n",
        "from Bio.Data import CodonTable\n",
        "from Bio.SeqUtils import GC\n",
        "import nglview as nv\n",
        "from colorama import Back, Style, Fore"
      ],
      "execution_count": 24,
      "outputs": []
    },
    {
      "cell_type": "code",
      "metadata": {
        "colab": {
          "base_uri": "https://localhost:8080/"
        },
        "id": "HbtiBoI6plcb",
        "outputId": "4275a3a6-5302-4587-a75b-3dd0e87099c5"
      },
      "source": [
        "for record in SeqIO.parse('./data/sequence.fasta', 'fasta'):\n",
        "  print(record)"
      ],
      "execution_count": 10,
      "outputs": [
        {
          "output_type": "stream",
          "text": [
            "ID: MW463452.1\n",
            "Name: MW463452.1\n",
            "Description: MW463452.1 Severe acute respiratory syndrome coronavirus 2 isolate SARS-CoV-2/human/TUN/TUN-20212285/2021, complete genome\n",
            "Number of features: 0\n",
            "Seq('TCCCAGGTAACAAACCAACCAACTTTCGATCTCTTGTAGATCTGTTCTCTAAAC...AGG')\n"
          ],
          "name": "stdout"
        }
      ]
    },
    {
      "cell_type": "code",
      "metadata": {
        "colab": {
          "base_uri": "https://localhost:8080/"
        },
        "id": "awLbnK0pqruU",
        "outputId": "088bbfe8-0e24-4883-baf9-339c23765e42"
      },
      "source": [
        "## Loading the FASTA file: COVID-19 genome \n",
        "ncov_record = SeqIO.read('./data/sequence.fasta', 'fasta')\n",
        "ncov_record"
      ],
      "execution_count": 11,
      "outputs": [
        {
          "output_type": "execute_result",
          "data": {
            "text/plain": [
              "SeqRecord(seq=Seq('TCCCAGGTAACAAACCAACCAACTTTCGATCTCTTGTAGATCTGTTCTCTAAAC...AGG'), id='MW463452.1', name='MW463452.1', description='MW463452.1 Severe acute respiratory syndrome coronavirus 2 isolate SARS-CoV-2/human/TUN/TUN-20212285/2021, complete genome', dbxrefs=[])"
            ]
          },
          "metadata": {
            "tags": []
          },
          "execution_count": 11
        }
      ]
    },
    {
      "cell_type": "code",
      "metadata": {
        "colab": {
          "base_uri": "https://localhost:8080/"
        },
        "id": "5dak_ZivrA-R",
        "outputId": "18c40058-ef95-432c-e69e-1172fcaf53f4"
      },
      "source": [
        "ncov_dna = ncov_record.seq\n",
        "ncov_dna"
      ],
      "execution_count": 13,
      "outputs": [
        {
          "output_type": "execute_result",
          "data": {
            "text/plain": [
              "Seq('TCCCAGGTAACAAACCAACCAACTTTCGATCTCTTGTAGATCTGTTCTCTAAAC...AGG')"
            ]
          },
          "metadata": {
            "tags": []
          },
          "execution_count": 13
        }
      ]
    },
    {
      "cell_type": "code",
      "metadata": {
        "id": "shqdRRWhrctw"
      },
      "source": [
        "## Visualizing the Nucleotides of the Covid19 DNA\n",
        "def ten_nucleotide_seq(genome):\n",
        "    genes = []\n",
        "    for ix, char in enumerate(genome):\n",
        "        if ix != 0 and ix%10 == 0:\n",
        "            genes.append(' ')\n",
        "        genes.append(char)\n",
        "    return ''.join(genes)\n",
        "\n",
        "# color code to represent genome sequences\n",
        "nu_clr_switcher = {\n",
        "    # standard color-codes\n",
        "    'A': Back.GREEN,\n",
        "    'C': Back.YELLOW,\n",
        "    'G': Back.RED,\n",
        "    'T': Back.BLUE,\n",
        "    ' ': Style.RESET_ALL\n",
        "}\n",
        "protein_clr_switcher = {\n",
        "    # color-code by proteinfamily's polarity\n",
        "    'A': Back.BLUE,\n",
        "    'V': Back.BLUE,\n",
        "    'I': Back.BLUE,\n",
        "    'L': Back.BLUE,\n",
        "    'M': Back.BLUE,\n",
        "    'F': Back.BLUE,\n",
        "    'Y': Back.CYAN,\n",
        "    'W': Back.BLUE,\n",
        "    'H': Back.CYAN,\n",
        "    'R': Back.RED,\n",
        "    'K': Back.RED,\n",
        "    'N': Back.GREEN,\n",
        "    'Q': Back.GREEN,\n",
        "    'E': Back.MAGENTA,\n",
        "    'D': Back.MAGENTA,\n",
        "    'S': Back.GREEN,\n",
        "    'T': Back.GREEN,\n",
        "    'G': Back.YELLOW,\n",
        "    'P': Back.YELLOW,\n",
        "    'C': Back.BLUE,\n",
        "    ' ': Style.RESET_ALL\n",
        "}\n",
        "def seq_repr(genome_str, strand ='dna'):\n",
        "    if strand == 'dna':\n",
        "        genome_str = ten_nucleotide_seq(genome=genome_str)\n",
        "        line_break_cntr = 0\n",
        "        for i in range(len(genome_str)):\n",
        "            if genome_str[i] == ' ':\n",
        "                line_break_cntr += 1\n",
        "                if line_break_cntr>0 and line_break_cntr%6==0:\n",
        "                    text = \"\\n\"\n",
        "                else:\n",
        "                    text = nu_clr_switcher[genome_str[i]] + genome_str[i]\n",
        "            else:\n",
        "                text = nu_clr_switcher[genome_str[i]] + genome_str[i]\n",
        "            print(text, end=\"\")\n",
        "        Style.RESET_ALL\n",
        "    if strand == 'protein':\n",
        "        for i in range(len(genome_str)):\n",
        "            if genome_str[i] in protein_clr_switcher:\n",
        "                if genome_str[i] == 'S' and genome_str[i+1:i+4] == 'TOP':\n",
        "                    text = Style.RESET_ALL + 'S'\n",
        "                elif genome_str[i] == 'T' and genome_str[i-1] == 'S' and genome_str[i+1:i+3] == 'OP':\n",
        "                    text = Style.RESET_ALL + 'T'\n",
        "                elif genome_str[i] == 'P' and genome_str[i-3:i] == 'STO':\n",
        "                    text = Style.RESET_ALL + 'P'\n",
        "                else:\n",
        "                    text = protein_clr_switcher[genome_str[i]] + genome_str[i]\n",
        "            else:\n",
        "                Style.RESET_ALL\n",
        "                text = genome_str[i]\n",
        "            print(text, end=\"\")"
      ],
      "execution_count": 15,
      "outputs": []
    },
    {
      "cell_type": "code",
      "metadata": {
        "colab": {
          "base_uri": "https://localhost:8080/"
        },
        "id": "bmB_8nz9rt62",
        "outputId": "d3f09d09-a0ce-4226-8045-c7d0542ba61b"
      },
      "source": [
        "print(\"COVID-19 genome: \")\n",
        "seq_repr(ncov_dna[:300])"
      ],
      "execution_count": 17,
      "outputs": [
        {
          "output_type": "stream",
          "text": [
            "COVID-19 genome: \n",
            "\u001b[44mT\u001b[43mC\u001b[43mC\u001b[43mC\u001b[42mA\u001b[41mG\u001b[41mG\u001b[44mT\u001b[42mA\u001b[42mA\u001b[0m \u001b[43mC\u001b[42mA\u001b[42mA\u001b[42mA\u001b[43mC\u001b[43mC\u001b[42mA\u001b[42mA\u001b[43mC\u001b[43mC\u001b[0m \u001b[42mA\u001b[42mA\u001b[43mC\u001b[44mT\u001b[44mT\u001b[44mT\u001b[43mC\u001b[41mG\u001b[42mA\u001b[44mT\u001b[0m \u001b[43mC\u001b[44mT\u001b[43mC\u001b[44mT\u001b[44mT\u001b[41mG\u001b[44mT\u001b[42mA\u001b[41mG\u001b[42mA\u001b[0m \u001b[44mT\u001b[43mC\u001b[44mT\u001b[41mG\u001b[44mT\u001b[44mT\u001b[43mC\u001b[44mT\u001b[43mC\u001b[44mT\u001b[0m \u001b[42mA\u001b[42mA\u001b[42mA\u001b[43mC\u001b[41mG\u001b[42mA\u001b[42mA\u001b[43mC\u001b[44mT\u001b[44mT\n",
            "\u001b[44mT\u001b[42mA\u001b[42mA\u001b[42mA\u001b[42mA\u001b[44mT\u001b[43mC\u001b[44mT\u001b[41mG\u001b[44mT\u001b[0m \u001b[41mG\u001b[44mT\u001b[41mG\u001b[41mG\u001b[43mC\u001b[44mT\u001b[41mG\u001b[44mT\u001b[43mC\u001b[42mA\u001b[0m \u001b[43mC\u001b[44mT\u001b[43mC\u001b[41mG\u001b[41mG\u001b[43mC\u001b[44mT\u001b[41mG\u001b[43mC\u001b[42mA\u001b[0m \u001b[44mT\u001b[41mG\u001b[43mC\u001b[44mT\u001b[44mT\u001b[42mA\u001b[41mG\u001b[44mT\u001b[41mG\u001b[43mC\u001b[0m \u001b[42mA\u001b[43mC\u001b[44mT\u001b[43mC\u001b[42mA\u001b[43mC\u001b[41mG\u001b[43mC\u001b[42mA\u001b[41mG\u001b[0m \u001b[44mT\u001b[42mA\u001b[44mT\u001b[42mA\u001b[42mA\u001b[44mT\u001b[44mT\u001b[42mA\u001b[42mA\u001b[44mT\n",
            "\u001b[42mA\u001b[42mA\u001b[43mC\u001b[44mT\u001b[42mA\u001b[42mA\u001b[44mT\u001b[44mT\u001b[42mA\u001b[43mC\u001b[0m \u001b[44mT\u001b[41mG\u001b[44mT\u001b[43mC\u001b[41mG\u001b[44mT\u001b[44mT\u001b[41mG\u001b[42mA\u001b[43mC\u001b[0m \u001b[42mA\u001b[41mG\u001b[41mG\u001b[42mA\u001b[43mC\u001b[42mA\u001b[43mC\u001b[41mG\u001b[42mA\u001b[41mG\u001b[0m \u001b[44mT\u001b[42mA\u001b[42mA\u001b[43mC\u001b[44mT\u001b[43mC\u001b[41mG\u001b[44mT\u001b[43mC\u001b[44mT\u001b[0m \u001b[42mA\u001b[44mT\u001b[43mC\u001b[44mT\u001b[44mT\u001b[43mC\u001b[44mT\u001b[41mG\u001b[43mC\u001b[42mA\u001b[0m \u001b[41mG\u001b[41mG\u001b[43mC\u001b[44mT\u001b[41mG\u001b[43mC\u001b[44mT\u001b[44mT\u001b[42mA\u001b[43mC\n",
            "\u001b[41mG\u001b[41mG\u001b[44mT\u001b[44mT\u001b[44mT\u001b[43mC\u001b[41mG\u001b[44mT\u001b[43mC\u001b[43mC\u001b[0m \u001b[41mG\u001b[44mT\u001b[41mG\u001b[44mT\u001b[44mT\u001b[41mG\u001b[43mC\u001b[42mA\u001b[41mG\u001b[43mC\u001b[0m \u001b[43mC\u001b[41mG\u001b[42mA\u001b[44mT\u001b[43mC\u001b[42mA\u001b[44mT\u001b[43mC\u001b[42mA\u001b[41mG\u001b[0m \u001b[43mC\u001b[42mA\u001b[43mC\u001b[42mA\u001b[44mT\u001b[43mC\u001b[44mT\u001b[42mA\u001b[41mG\u001b[41mG\u001b[0m \u001b[44mT\u001b[44mT\u001b[44mT\u001b[44mT\u001b[41mG\u001b[44mT\u001b[43mC\u001b[43mC\u001b[41mG\u001b[41mG\u001b[0m \u001b[41mG\u001b[44mT\u001b[41mG\u001b[44mT\u001b[41mG\u001b[42mA\u001b[43mC\u001b[43mC\u001b[41mG\u001b[42mA\n",
            "\u001b[42mA\u001b[42mA\u001b[41mG\u001b[41mG\u001b[44mT\u001b[42mA\u001b[42mA\u001b[41mG\u001b[42mA\u001b[44mT\u001b[0m \u001b[41mG\u001b[41mG\u001b[42mA\u001b[41mG\u001b[42mA\u001b[41mG\u001b[43mC\u001b[43mC\u001b[44mT\u001b[44mT\u001b[0m \u001b[41mG\u001b[44mT\u001b[43mC\u001b[43mC\u001b[43mC\u001b[44mT\u001b[41mG\u001b[41mG\u001b[44mT\u001b[44mT\u001b[0m \u001b[44mT\u001b[43mC\u001b[42mA\u001b[42mA\u001b[43mC\u001b[41mG\u001b[42mA\u001b[41mG\u001b[42mA\u001b[42mA\u001b[0m \u001b[42mA\u001b[42mA\u001b[43mC\u001b[42mA\u001b[43mC\u001b[42mA\u001b[43mC\u001b[41mG\u001b[44mT\u001b[43mC\u001b[0m \u001b[43mC\u001b[42mA\u001b[42mA\u001b[43mC\u001b[44mT\u001b[43mC\u001b[42mA\u001b[41mG\u001b[44mT\u001b[44mT"
          ],
          "name": "stdout"
        }
      ]
    },
    {
      "cell_type": "code",
      "metadata": {
        "colab": {
          "base_uri": "https://localhost:8080/"
        },
        "id": "WLghESo9rzYK",
        "outputId": "b0675353-9207-4f29-aa99-a6da11a29be0"
      },
      "source": [
        "print(\"Total number of nucleotides: \")\n",
        "print(len(ncov_dna))"
      ],
      "execution_count": 19,
      "outputs": [
        {
          "output_type": "stream",
          "text": [
            "Total number of nucleotides: \n",
            "29845\n"
          ],
          "name": "stdout"
        }
      ]
    },
    {
      "cell_type": "markdown",
      "metadata": {
        "id": "mexLiObvsD--"
      },
      "source": [
        "## 3. Finding the Composition of each Nucleotide"
      ]
    },
    {
      "cell_type": "code",
      "metadata": {
        "id": "ElHUD9l4r_hR"
      },
      "source": [
        "def nucleotides_composition(seq):\n",
        "  nucleotides = {'A': 0, 'C': 0, 'G': 0, 'T': 0}\n",
        "  for n in nucleotides:\n",
        "    nucleotides[n] = seq.count(n)/len(seq)*100\n",
        "  return nucleotides "
      ],
      "execution_count": 20,
      "outputs": []
    },
    {
      "cell_type": "code",
      "metadata": {
        "colab": {
          "base_uri": "https://localhost:8080/"
        },
        "id": "-8F_Rnei4eZA",
        "outputId": "35c0af01-1a04-431e-ce23-218a137d862e"
      },
      "source": [
        "ndict = nucleotides_composition(ncov_dna)\n",
        "ndict"
      ],
      "execution_count": 21,
      "outputs": [
        {
          "output_type": "execute_result",
          "data": {
            "text/plain": [
              "{'A': 29.81738984754565,\n",
              " 'C': 18.36153459540962,\n",
              " 'G': 19.604623890098843,\n",
              " 'T': 32.125984251968504}"
            ]
          },
          "metadata": {
            "tags": []
          },
          "execution_count": 21
        }
      ]
    },
    {
      "cell_type": "code",
      "metadata": {
        "colab": {
          "base_uri": "https://localhost:8080/",
          "height": 173
        },
        "id": "qI3ZNNI44jnX",
        "outputId": "ff348781-9619-4be2-a405-f93f33b88e4a"
      },
      "source": [
        "ndf = pd.DataFrame.from_dict(ndict, orient='index')\n",
        "ndf = ndf.reset_index()\n",
        "ndf = ndf.rename(columns={'index': 'Nucleotide', 0: 'Composition'})\n",
        "ndf"
      ],
      "execution_count": 22,
      "outputs": [
        {
          "output_type": "execute_result",
          "data": {
            "text/html": [
              "<div>\n",
              "<style scoped>\n",
              "    .dataframe tbody tr th:only-of-type {\n",
              "        vertical-align: middle;\n",
              "    }\n",
              "\n",
              "    .dataframe tbody tr th {\n",
              "        vertical-align: top;\n",
              "    }\n",
              "\n",
              "    .dataframe thead th {\n",
              "        text-align: right;\n",
              "    }\n",
              "</style>\n",
              "<table border=\"1\" class=\"dataframe\">\n",
              "  <thead>\n",
              "    <tr style=\"text-align: right;\">\n",
              "      <th></th>\n",
              "      <th>Nucleotide</th>\n",
              "      <th>Composition</th>\n",
              "    </tr>\n",
              "  </thead>\n",
              "  <tbody>\n",
              "    <tr>\n",
              "      <th>0</th>\n",
              "      <td>A</td>\n",
              "      <td>29.817390</td>\n",
              "    </tr>\n",
              "    <tr>\n",
              "      <th>1</th>\n",
              "      <td>C</td>\n",
              "      <td>18.361535</td>\n",
              "    </tr>\n",
              "    <tr>\n",
              "      <th>2</th>\n",
              "      <td>G</td>\n",
              "      <td>19.604624</td>\n",
              "    </tr>\n",
              "    <tr>\n",
              "      <th>3</th>\n",
              "      <td>T</td>\n",
              "      <td>32.125984</td>\n",
              "    </tr>\n",
              "  </tbody>\n",
              "</table>\n",
              "</div>"
            ],
            "text/plain": [
              "  Nucleotide  Composition\n",
              "0          A    29.817390\n",
              "1          C    18.361535\n",
              "2          G    19.604624\n",
              "3          T    32.125984"
            ]
          },
          "metadata": {
            "tags": []
          },
          "execution_count": 22
        }
      ]
    },
    {
      "cell_type": "code",
      "metadata": {
        "colab": {
          "base_uri": "https://localhost:8080/",
          "height": 279
        },
        "id": "N8yxoRae41zL",
        "outputId": "25464d4d-bbe5-40dc-d756-904af4bd0bc0"
      },
      "source": [
        "ax = sns.barplot(x=\"Nucleotide\", y=\"Composition\", data=ndf)"
      ],
      "execution_count": 23,
      "outputs": [
        {
          "output_type": "display_data",
          "data": {
            "image/png": "[encoded data removed]",
            "text/plain": [
              "<Figure size 432x288 with 1 Axes>"
            ]
          },
          "metadata": {
            "tags": [],
            "needs_background": "light"
          }
        }
      ]
    },
    {
      "cell_type": "markdown",
      "metadata": {
        "id": "dg0ZfMmE4_Ve"
      },
      "source": [
        "## 4. Calculating GC-content of the DNA\n",
        "In polymerase chain reaction (PCR) experiments, the GC-content of short oligonucleotides known as primers is often used to predict their annealing temperature to the template DNA. A higher GC-content level indicates a relatively higher melting temperature which correlates to higher stability."
      ]
    },
    {
      "cell_type": "code",
      "metadata": {
        "colab": {
          "base_uri": "https://localhost:8080/"
        },
        "id": "tyg_qvWc47vu",
        "outputId": "484fd282-79dd-4a6b-c880-8e1841bf0541"
      },
      "source": [
        "print(f\"GC% :{GC(ncov_dna)}\")"
      ],
      "execution_count": 25,
      "outputs": [
        {
          "output_type": "stream",
          "text": [
            "GC% :37.96615848550846\n"
          ],
          "name": "stdout"
        }
      ]
    },
    {
      "cell_type": "markdown",
      "metadata": {
        "id": "ZEkxDCCc56uX"
      },
      "source": [
        "## 5. Tri-nucleotide compositions (Tri-mer)\n",
        "In bioinformatics, k-mers are subsequences of length k contained within a biological sequence. Primarily used within the context of computational genomics and sequence analysis, in which k-mers are composed of nucleotides (i.e. A, T, G, and C), k-mers are capitalized upon to assemble DNA sequences, improve heterologous gene expression, identify species in metagenomic samples, and create attenuated vaccines. "
      ]
    },
    {
      "cell_type": "code",
      "metadata": {
        "id": "hSNRpsm65ac8"
      },
      "source": [
        "# tri-nucleotide compositions\n",
        "trimers = [\"AAA\", \"AAC\", \"AAG\", \"AAT\", \"ACA\", \"ACC\", \"ACG\", \"ACT\", \"AGA\", \"AGC\", \"AGG\", \"ATA\", \"ATC\", \"ATG\", \"CAA\", \n",
        "           \"CAC\", \"CAG\", \"CCA\",\"CCC\",\"CCG\",\"CGA\",\"CGC\",\"CTA\",\"CTC\",\"GAA\",\"GAC\",\"GCA\",\"GCC\",\"GGA\",\"GTA\",\"TAA\",\"TCA\"]"
      ],
      "execution_count": 26,
      "outputs": []
    },
    {
      "cell_type": "code",
      "metadata": {
        "id": "XKYt-TV4cIH-"
      },
      "source": [
        "def trimer_composition(genome):\n",
        "  trimer_dict = dict()\n",
        "  for trimer in trimers:\n",
        "    trimer_dict[trimer] = genome.count(trimer)\n",
        "  return trimer_dict "
      ],
      "execution_count": 27,
      "outputs": []
    },
    {
      "cell_type": "code",
      "metadata": {
        "colab": {
          "base_uri": "https://localhost:8080/"
        },
        "id": "eiI0AqoPdn8A",
        "outputId": "0e6e7eda-7c19-49c1-9b33-4d0777bc28bf"
      },
      "source": [
        "composition = trimer_composition(ncov_dna)\n",
        "total_composition = sum(composition.values())\n",
        "norm_freq = [count/total_composition for count in composition.values()]\n",
        "print(composition)\n",
        "print(total_composition)\n",
        "print(norm_freq)"
      ],
      "execution_count": 28,
      "outputs": [
        {
          "output_type": "stream",
          "text": [
            "{'AAA': 641, 'AAC': 615, 'AAG': 575, 'AAT': 760, 'ACA': 754, 'ACC': 371, 'ACG': 164, 'ACT': 674, 'AGA': 567, 'AGC': 300, 'AGG': 328, 'ATA': 446, 'ATC': 339, 'ATG': 722, 'CAA': 702, 'CAC': 427, 'CAG': 437, 'CCA': 353, 'CCC': 102, 'CCG': 73, 'CGA': 95, 'CGC': 94, 'CTA': 555, 'CTC': 270, 'GAA': 531, 'GAC': 338, 'GCA': 371, 'GCC': 188, 'GGA': 280, 'GTA': 468, 'TAA': 717, 'TCA': 550}\n",
            "13807\n",
            "[0.046425726080973416, 0.04454262330701818, 0.04164554211631781, 0.05504454262330702, 0.054609980444701965, 0.026870428043745925, 0.011878032881871515, 0.04881581806330122, 0.041066125878177734, 0.02172810893025277, 0.02375606576374303, 0.032302455276309115, 0.02455276309118563, 0.05229231549214167, 0.05084377489679148, 0.030926341710726443, 0.03165061200840154, 0.02556674150793076, 0.007387557036285942, 0.005287173173028174, 0.006880567827913377, 0.006808140798145868, 0.040197001520967626, 0.019555298037227494, 0.038458752806547404, 0.024480336061418122, 0.026870428043745925, 0.013616281596291736, 0.020279568334902586, 0.03389584993119432, 0.05193018034330412, 0.03983486637213008]\n"
          ],
          "name": "stdout"
        }
      ]
    },
    {
      "cell_type": "code",
      "metadata": {
        "id": "yO3KQTHudzZ5"
      },
      "source": [
        "tri = pd.DataFrame.from_dict(composition, orient='index')\n",
        "tri = tri.reset_index()\n",
        "tri = tri.rename(columns={\"index\": \"trimer\", 0: \"count\"})"
      ],
      "execution_count": 29,
      "outputs": []
    },
    {
      "cell_type": "code",
      "metadata": {
        "colab": {
          "base_uri": "https://localhost:8080/",
          "height": 712
        },
        "id": "XEwY_bcoeE76",
        "outputId": "fcfc0edb-de08-4f3c-9e97-2e6e61aba57f"
      },
      "source": [
        "r1 = tri.sort_values(by='count', ascending=False)\n",
        "r1.style.bar(subset=[\"count\"], color='#').background_gradient(cmap='Reds')"
      ],
      "execution_count": 30,
      "outputs": [
        {
          "output_type": "execute_result",
          "data": {
            "text/html": [
              "<style  type=\"text/css\" >\n",
              "#T_92dd42f6_6289_11eb_834e_0242ac1c0002row0_col1{\n",
              "            width:  10em;\n",
              "             height:  80%;\n",
              "            background:  linear-gradient(90deg,# 100.0%, transparent 100.0%);\n",
              "            background-color:  #67000d;\n",
              "            color:  #f1f1f1;\n",
              "        }#T_92dd42f6_6289_11eb_834e_0242ac1c0002row1_col1{\n",
              "            width:  10em;\n",
              "             height:  80%;\n",
              "            background:  linear-gradient(90deg,# 99.1%, transparent 99.1%);\n",
              "            background-color:  #6b010e;\n",
              "            color:  #f1f1f1;\n",
              "        }#T_92dd42f6_6289_11eb_834e_0242ac1c0002row2_col1{\n",
              "            width:  10em;\n",
              "             height:  80%;\n",
              "            background:  linear-gradient(90deg,# 94.5%, transparent 94.5%);\n",
              "            background-color:  #820711;\n",
              "            color:  #f1f1f1;\n",
              "        }#T_92dd42f6_6289_11eb_834e_0242ac1c0002row3_col1{\n",
              "            width:  10em;\n",
              "             height:  80%;\n",
              "            background:  linear-gradient(90deg,# 93.7%, transparent 93.7%);\n",
              "            background-color:  #860811;\n",
              "            color:  #f1f1f1;\n",
              "        }#T_92dd42f6_6289_11eb_834e_0242ac1c0002row4_col1{\n",
              "            width:  10em;\n",
              "             height:  80%;\n",
              "            background:  linear-gradient(90deg,# 91.6%, transparent 91.6%);\n",
              "            background-color:  #900a12;\n",
              "            color:  #f1f1f1;\n",
              "        }#T_92dd42f6_6289_11eb_834e_0242ac1c0002row5_col1{\n",
              "            width:  10em;\n",
              "             height:  80%;\n",
              "            background:  linear-gradient(90deg,# 87.5%, transparent 87.5%);\n",
              "            background-color:  #a50f15;\n",
              "            color:  #f1f1f1;\n",
              "        }#T_92dd42f6_6289_11eb_834e_0242ac1c0002row6_col1{\n",
              "            width:  10em;\n",
              "             height:  80%;\n",
              "            background:  linear-gradient(90deg,# 82.7%, transparent 82.7%);\n",
              "            background-color:  #b31218;\n",
              "            color:  #f1f1f1;\n",
              "        }#T_92dd42f6_6289_11eb_834e_0242ac1c0002row7_col1{\n",
              "            width:  10em;\n",
              "             height:  80%;\n",
              "            background:  linear-gradient(90deg,# 78.9%, transparent 78.9%);\n",
              "            background-color:  #bf151b;\n",
              "            color:  #f1f1f1;\n",
              "        }#T_92dd42f6_6289_11eb_834e_0242ac1c0002row8_col1{\n",
              "            width:  10em;\n",
              "             height:  80%;\n",
              "            background:  linear-gradient(90deg,# 73.1%, transparent 73.1%);\n",
              "            background-color:  #d01d1f;\n",
              "            color:  #f1f1f1;\n",
              "        }#T_92dd42f6_6289_11eb_834e_0242ac1c0002row9_col1{\n",
              "            width:  10em;\n",
              "             height:  80%;\n",
              "            background:  linear-gradient(90deg,# 71.9%, transparent 71.9%);\n",
              "            background-color:  #d32020;\n",
              "            color:  #f1f1f1;\n",
              "        }#T_92dd42f6_6289_11eb_834e_0242ac1c0002row10_col1{\n",
              "            width:  10em;\n",
              "             height:  80%;\n",
              "            background:  linear-gradient(90deg,# 70.2%, transparent 70.2%);\n",
              "            background-color:  #d92523;\n",
              "            color:  #f1f1f1;\n",
              "        }#T_92dd42f6_6289_11eb_834e_0242ac1c0002row11_col1{\n",
              "            width:  10em;\n",
              "             height:  80%;\n",
              "            background:  linear-gradient(90deg,# 69.4%, transparent 69.4%);\n",
              "            background-color:  #db2824;\n",
              "            color:  #f1f1f1;\n",
              "        }#T_92dd42f6_6289_11eb_834e_0242ac1c0002row12_col1{\n",
              "            width:  10em;\n",
              "             height:  80%;\n",
              "            background:  linear-gradient(90deg,# 66.7%, transparent 66.7%);\n",
              "            background-color:  #e32f27;\n",
              "            color:  #f1f1f1;\n",
              "        }#T_92dd42f6_6289_11eb_834e_0242ac1c0002row13_col1{\n",
              "            width:  10em;\n",
              "             height:  80%;\n",
              "            background:  linear-gradient(90deg,# 57.5%, transparent 57.5%);\n",
              "            background-color:  #f44d38;\n",
              "            color:  #000000;\n",
              "        }#T_92dd42f6_6289_11eb_834e_0242ac1c0002row14_col1{\n",
              "            width:  10em;\n",
              "             height:  80%;\n",
              "            background:  linear-gradient(90deg,# 54.3%, transparent 54.3%);\n",
              "            background-color:  #f75b40;\n",
              "            color:  #000000;\n",
              "        }#T_92dd42f6_6289_11eb_834e_0242ac1c0002row15_col1{\n",
              "            width:  10em;\n",
              "             height:  80%;\n",
              "            background:  linear-gradient(90deg,# 53.0%, transparent 53.0%);\n",
              "            background-color:  #f85f43;\n",
              "            color:  #000000;\n",
              "        }#T_92dd42f6_6289_11eb_834e_0242ac1c0002row16_col1{\n",
              "            width:  10em;\n",
              "             height:  80%;\n",
              "            background:  linear-gradient(90deg,# 51.5%, transparent 51.5%);\n",
              "            background-color:  #fa6547;\n",
              "            color:  #000000;\n",
              "        }#T_92dd42f6_6289_11eb_834e_0242ac1c0002row17_col1,#T_92dd42f6_6289_11eb_834e_0242ac1c0002row18_col1{\n",
              "            width:  10em;\n",
              "             height:  80%;\n",
              "            background:  linear-gradient(90deg,# 43.4%, transparent 43.4%);\n",
              "            background-color:  #fc7f5f;\n",
              "            color:  #000000;\n",
              "        }#T_92dd42f6_6289_11eb_834e_0242ac1c0002row19_col1{\n",
              "            width:  10em;\n",
              "             height:  80%;\n",
              "            background:  linear-gradient(90deg,# 40.8%, transparent 40.8%);\n",
              "            background-color:  #fc8767;\n",
              "            color:  #000000;\n",
              "        }#T_92dd42f6_6289_11eb_834e_0242ac1c0002row20_col1{\n",
              "            width:  10em;\n",
              "             height:  80%;\n",
              "            background:  linear-gradient(90deg,# 38.7%, transparent 38.7%);\n",
              "            background-color:  #fc8e6e;\n",
              "            color:  #000000;\n",
              "        }#T_92dd42f6_6289_11eb_834e_0242ac1c0002row21_col1{\n",
              "            width:  10em;\n",
              "             height:  80%;\n",
              "            background:  linear-gradient(90deg,# 38.6%, transparent 38.6%);\n",
              "            background-color:  #fc8f6f;\n",
              "            color:  #000000;\n",
              "        }#T_92dd42f6_6289_11eb_834e_0242ac1c0002row22_col1{\n",
              "            width:  10em;\n",
              "             height:  80%;\n",
              "            background:  linear-gradient(90deg,# 37.1%, transparent 37.1%);\n",
              "            background-color:  #fc9373;\n",
              "            color:  #000000;\n",
              "        }#T_92dd42f6_6289_11eb_834e_0242ac1c0002row23_col1{\n",
              "            width:  10em;\n",
              "             height:  80%;\n",
              "            background:  linear-gradient(90deg,# 33.0%, transparent 33.0%);\n",
              "            background-color:  #fca183;\n",
              "            color:  #000000;\n",
              "        }#T_92dd42f6_6289_11eb_834e_0242ac1c0002row24_col1{\n",
              "            width:  10em;\n",
              "             height:  80%;\n",
              "            background:  linear-gradient(90deg,# 30.1%, transparent 30.1%);\n",
              "            background-color:  #fcaa8d;\n",
              "            color:  #000000;\n",
              "        }#T_92dd42f6_6289_11eb_834e_0242ac1c0002row25_col1{\n",
              "            width:  10em;\n",
              "             height:  80%;\n",
              "            background:  linear-gradient(90deg,# 28.7%, transparent 28.7%);\n",
              "            background-color:  #fcaf93;\n",
              "            color:  #000000;\n",
              "        }#T_92dd42f6_6289_11eb_834e_0242ac1c0002row26_col1{\n",
              "            width:  10em;\n",
              "             height:  80%;\n",
              "            background:  linear-gradient(90deg,# 16.7%, transparent 16.7%);\n",
              "            background-color:  #fdd4c2;\n",
              "            color:  #000000;\n",
              "        }#T_92dd42f6_6289_11eb_834e_0242ac1c0002row27_col1{\n",
              "            width:  10em;\n",
              "             height:  80%;\n",
              "            background:  linear-gradient(90deg,# 13.2%, transparent 13.2%);\n",
              "            background-color:  #fedfd0;\n",
              "            color:  #000000;\n",
              "        }#T_92dd42f6_6289_11eb_834e_0242ac1c0002row28_col1{\n",
              "            width:  10em;\n",
              "             height:  80%;\n",
              "            background:  linear-gradient(90deg,# 4.2%, transparent 4.2%);\n",
              "            background-color:  #ffeee7;\n",
              "            color:  #000000;\n",
              "        }#T_92dd42f6_6289_11eb_834e_0242ac1c0002row29_col1{\n",
              "            width:  10em;\n",
              "             height:  80%;\n",
              "            background:  linear-gradient(90deg,# 3.2%, transparent 3.2%);\n",
              "            background-color:  #fff0e8;\n",
              "            color:  #000000;\n",
              "        }#T_92dd42f6_6289_11eb_834e_0242ac1c0002row30_col1{\n",
              "            width:  10em;\n",
              "             height:  80%;\n",
              "            background:  linear-gradient(90deg,# 3.1%, transparent 3.1%);\n",
              "            background-color:  #fff0e9;\n",
              "            color:  #000000;\n",
              "        }#T_92dd42f6_6289_11eb_834e_0242ac1c0002row31_col1{\n",
              "            width:  10em;\n",
              "             height:  80%;\n",
              "            background-color:  #fff5f0;\n",
              "            color:  #000000;\n",
              "        }</style><table id=\"T_92dd42f6_6289_11eb_834e_0242ac1c0002\" ><thead>    <tr>        <th class=\"blank level0\" ></th>        <th class=\"col_heading level0 col0\" >trimer</th>        <th class=\"col_heading level0 col1\" >count</th>    </tr></thead><tbody>\n",
              "                <tr>\n",
              "                        <th id=\"T_92dd42f6_6289_11eb_834e_0242ac1c0002level0_row0\" class=\"row_heading level0 row0\" >3</th>\n",
              "                        <td id=\"T_92dd42f6_6289_11eb_834e_0242ac1c0002row0_col0\" class=\"data row0 col0\" >AAT</td>\n",
              "                        <td id=\"T_92dd42f6_6289_11eb_834e_0242ac1c0002row0_col1\" class=\"data row0 col1\" >760</td>\n",
              "            </tr>\n",
              "            <tr>\n",
              "                        <th id=\"T_92dd42f6_6289_11eb_834e_0242ac1c0002level0_row1\" class=\"row_heading level0 row1\" >4</th>\n",
              "                        <td id=\"T_92dd42f6_6289_11eb_834e_0242ac1c0002row1_col0\" class=\"data row1 col0\" >ACA</td>\n",
              "                        <td id=\"T_92dd42f6_6289_11eb_834e_0242ac1c0002row1_col1\" class=\"data row1 col1\" >754</td>\n",
              "            </tr>\n",
              "            <tr>\n",
              "                        <th id=\"T_92dd42f6_6289_11eb_834e_0242ac1c0002level0_row2\" class=\"row_heading level0 row2\" >13</th>\n",
              "                        <td id=\"T_92dd42f6_6289_11eb_834e_0242ac1c0002row2_col0\" class=\"data row2 col0\" >ATG</td>\n",
              "                        <td id=\"T_92dd42f6_6289_11eb_834e_0242ac1c0002row2_col1\" class=\"data row2 col1\" >722</td>\n",
              "            </tr>\n",
              "            <tr>\n",
              "                        <th id=\"T_92dd42f6_6289_11eb_834e_0242ac1c0002level0_row3\" class=\"row_heading level0 row3\" >30</th>\n",
              "                        <td id=\"T_92dd42f6_6289_11eb_834e_0242ac1c0002row3_col0\" class=\"data row3 col0\" >TAA</td>\n",
              "                        <td id=\"T_92dd42f6_6289_11eb_834e_0242ac1c0002row3_col1\" class=\"data row3 col1\" >717</td>\n",
              "            </tr>\n",
              "            <tr>\n",
              "                        <th id=\"T_92dd42f6_6289_11eb_834e_0242ac1c0002level0_row4\" class=\"row_heading level0 row4\" >14</th>\n",
              "                        <td id=\"T_92dd42f6_6289_11eb_834e_0242ac1c0002row4_col0\" class=\"data row4 col0\" >CAA</td>\n",
              "                        <td id=\"T_92dd42f6_6289_11eb_834e_0242ac1c0002row4_col1\" class=\"data row4 col1\" >702</td>\n",
              "            </tr>\n",
              "            <tr>\n",
              "                        <th id=\"T_92dd42f6_6289_11eb_834e_0242ac1c0002level0_row5\" class=\"row_heading level0 row5\" >7</th>\n",
              "                        <td id=\"T_92dd42f6_6289_11eb_834e_0242ac1c0002row5_col0\" class=\"data row5 col0\" >ACT</td>\n",
              "                        <td id=\"T_92dd42f6_6289_11eb_834e_0242ac1c0002row5_col1\" class=\"data row5 col1\" >674</td>\n",
              "            </tr>\n",
              "            <tr>\n",
              "                        <th id=\"T_92dd42f6_6289_11eb_834e_0242ac1c0002level0_row6\" class=\"row_heading level0 row6\" >0</th>\n",
              "                        <td id=\"T_92dd42f6_6289_11eb_834e_0242ac1c0002row6_col0\" class=\"data row6 col0\" >AAA</td>\n",
              "                        <td id=\"T_92dd42f6_6289_11eb_834e_0242ac1c0002row6_col1\" class=\"data row6 col1\" >641</td>\n",
              "            </tr>\n",
              "            <tr>\n",
              "                        <th id=\"T_92dd42f6_6289_11eb_834e_0242ac1c0002level0_row7\" class=\"row_heading level0 row7\" >1</th>\n",
              "                        <td id=\"T_92dd42f6_6289_11eb_834e_0242ac1c0002row7_col0\" class=\"data row7 col0\" >AAC</td>\n",
              "                        <td id=\"T_92dd42f6_6289_11eb_834e_0242ac1c0002row7_col1\" class=\"data row7 col1\" >615</td>\n",
              "            </tr>\n",
              "            <tr>\n",
              "                        <th id=\"T_92dd42f6_6289_11eb_834e_0242ac1c0002level0_row8\" class=\"row_heading level0 row8\" >2</th>\n",
              "                        <td id=\"T_92dd42f6_6289_11eb_834e_0242ac1c0002row8_col0\" class=\"data row8 col0\" >AAG</td>\n",
              "                        <td id=\"T_92dd42f6_6289_11eb_834e_0242ac1c0002row8_col1\" class=\"data row8 col1\" >575</td>\n",
              "            </tr>\n",
              "            <tr>\n",
              "                        <th id=\"T_92dd42f6_6289_11eb_834e_0242ac1c0002level0_row9\" class=\"row_heading level0 row9\" >8</th>\n",
              "                        <td id=\"T_92dd42f6_6289_11eb_834e_0242ac1c0002row9_col0\" class=\"data row9 col0\" >AGA</td>\n",
              "                        <td id=\"T_92dd42f6_6289_11eb_834e_0242ac1c0002row9_col1\" class=\"data row9 col1\" >567</td>\n",
              "            </tr>\n",
              "            <tr>\n",
              "                        <th id=\"T_92dd42f6_6289_11eb_834e_0242ac1c0002level0_row10\" class=\"row_heading level0 row10\" >22</th>\n",
              "                        <td id=\"T_92dd42f6_6289_11eb_834e_0242ac1c0002row10_col0\" class=\"data row10 col0\" >CTA</td>\n",
              "                        <td id=\"T_92dd42f6_6289_11eb_834e_0242ac1c0002row10_col1\" class=\"data row10 col1\" >555</td>\n",
              "            </tr>\n",
              "            <tr>\n",
              "                        <th id=\"T_92dd42f6_6289_11eb_834e_0242ac1c0002level0_row11\" class=\"row_heading level0 row11\" >31</th>\n",
              "                        <td id=\"T_92dd42f6_6289_11eb_834e_0242ac1c0002row11_col0\" class=\"data row11 col0\" >TCA</td>\n",
              "                        <td id=\"T_92dd42f6_6289_11eb_834e_0242ac1c0002row11_col1\" class=\"data row11 col1\" >550</td>\n",
              "            </tr>\n",
              "            <tr>\n",
              "                        <th id=\"T_92dd42f6_6289_11eb_834e_0242ac1c0002level0_row12\" class=\"row_heading level0 row12\" >24</th>\n",
              "                        <td id=\"T_92dd42f6_6289_11eb_834e_0242ac1c0002row12_col0\" class=\"data row12 col0\" >GAA</td>\n",
              "                        <td id=\"T_92dd42f6_6289_11eb_834e_0242ac1c0002row12_col1\" class=\"data row12 col1\" >531</td>\n",
              "            </tr>\n",
              "            <tr>\n",
              "                        <th id=\"T_92dd42f6_6289_11eb_834e_0242ac1c0002level0_row13\" class=\"row_heading level0 row13\" >29</th>\n",
              "                        <td id=\"T_92dd42f6_6289_11eb_834e_0242ac1c0002row13_col0\" class=\"data row13 col0\" >GTA</td>\n",
              "                        <td id=\"T_92dd42f6_6289_11eb_834e_0242ac1c0002row13_col1\" class=\"data row13 col1\" >468</td>\n",
              "            </tr>\n",
              "            <tr>\n",
              "                        <th id=\"T_92dd42f6_6289_11eb_834e_0242ac1c0002level0_row14\" class=\"row_heading level0 row14\" >11</th>\n",
              "                        <td id=\"T_92dd42f6_6289_11eb_834e_0242ac1c0002row14_col0\" class=\"data row14 col0\" >ATA</td>\n",
              "                        <td id=\"T_92dd42f6_6289_11eb_834e_0242ac1c0002row14_col1\" class=\"data row14 col1\" >446</td>\n",
              "            </tr>\n",
              "            <tr>\n",
              "                        <th id=\"T_92dd42f6_6289_11eb_834e_0242ac1c0002level0_row15\" class=\"row_heading level0 row15\" >16</th>\n",
              "                        <td id=\"T_92dd42f6_6289_11eb_834e_0242ac1c0002row15_col0\" class=\"data row15 col0\" >CAG</td>\n",
              "                        <td id=\"T_92dd42f6_6289_11eb_834e_0242ac1c0002row15_col1\" class=\"data row15 col1\" >437</td>\n",
              "            </tr>\n",
              "            <tr>\n",
              "                        <th id=\"T_92dd42f6_6289_11eb_834e_0242ac1c0002level0_row16\" class=\"row_heading level0 row16\" >15</th>\n",
              "                        <td id=\"T_92dd42f6_6289_11eb_834e_0242ac1c0002row16_col0\" class=\"data row16 col0\" >CAC</td>\n",
              "                        <td id=\"T_92dd42f6_6289_11eb_834e_0242ac1c0002row16_col1\" class=\"data row16 col1\" >427</td>\n",
              "            </tr>\n",
              "            <tr>\n",
              "                        <th id=\"T_92dd42f6_6289_11eb_834e_0242ac1c0002level0_row17\" class=\"row_heading level0 row17\" >5</th>\n",
              "                        <td id=\"T_92dd42f6_6289_11eb_834e_0242ac1c0002row17_col0\" class=\"data row17 col0\" >ACC</td>\n",
              "                        <td id=\"T_92dd42f6_6289_11eb_834e_0242ac1c0002row17_col1\" class=\"data row17 col1\" >371</td>\n",
              "            </tr>\n",
              "            <tr>\n",
              "                        <th id=\"T_92dd42f6_6289_11eb_834e_0242ac1c0002level0_row18\" class=\"row_heading level0 row18\" >26</th>\n",
              "                        <td id=\"T_92dd42f6_6289_11eb_834e_0242ac1c0002row18_col0\" class=\"data row18 col0\" >GCA</td>\n",
              "                        <td id=\"T_92dd42f6_6289_11eb_834e_0242ac1c0002row18_col1\" class=\"data row18 col1\" >371</td>\n",
              "            </tr>\n",
              "            <tr>\n",
              "                        <th id=\"T_92dd42f6_6289_11eb_834e_0242ac1c0002level0_row19\" class=\"row_heading level0 row19\" >17</th>\n",
              "                        <td id=\"T_92dd42f6_6289_11eb_834e_0242ac1c0002row19_col0\" class=\"data row19 col0\" >CCA</td>\n",
              "                        <td id=\"T_92dd42f6_6289_11eb_834e_0242ac1c0002row19_col1\" class=\"data row19 col1\" >353</td>\n",
              "            </tr>\n",
              "            <tr>\n",
              "                        <th id=\"T_92dd42f6_6289_11eb_834e_0242ac1c0002level0_row20\" class=\"row_heading level0 row20\" >12</th>\n",
              "                        <td id=\"T_92dd42f6_6289_11eb_834e_0242ac1c0002row20_col0\" class=\"data row20 col0\" >ATC</td>\n",
              "                        <td id=\"T_92dd42f6_6289_11eb_834e_0242ac1c0002row20_col1\" class=\"data row20 col1\" >339</td>\n",
              "            </tr>\n",
              "            <tr>\n",
              "                        <th id=\"T_92dd42f6_6289_11eb_834e_0242ac1c0002level0_row21\" class=\"row_heading level0 row21\" >25</th>\n",
              "                        <td id=\"T_92dd42f6_6289_11eb_834e_0242ac1c0002row21_col0\" class=\"data row21 col0\" >GAC</td>\n",
              "                        <td id=\"T_92dd42f6_6289_11eb_834e_0242ac1c0002row21_col1\" class=\"data row21 col1\" >338</td>\n",
              "            </tr>\n",
              "            <tr>\n",
              "                        <th id=\"T_92dd42f6_6289_11eb_834e_0242ac1c0002level0_row22\" class=\"row_heading level0 row22\" >10</th>\n",
              "                        <td id=\"T_92dd42f6_6289_11eb_834e_0242ac1c0002row22_col0\" class=\"data row22 col0\" >AGG</td>\n",
              "                        <td id=\"T_92dd42f6_6289_11eb_834e_0242ac1c0002row22_col1\" class=\"data row22 col1\" >328</td>\n",
              "            </tr>\n",
              "            <tr>\n",
              "                        <th id=\"T_92dd42f6_6289_11eb_834e_0242ac1c0002level0_row23\" class=\"row_heading level0 row23\" >9</th>\n",
              "                        <td id=\"T_92dd42f6_6289_11eb_834e_0242ac1c0002row23_col0\" class=\"data row23 col0\" >AGC</td>\n",
              "                        <td id=\"T_92dd42f6_6289_11eb_834e_0242ac1c0002row23_col1\" class=\"data row23 col1\" >300</td>\n",
              "            </tr>\n",
              "            <tr>\n",
              "                        <th id=\"T_92dd42f6_6289_11eb_834e_0242ac1c0002level0_row24\" class=\"row_heading level0 row24\" >28</th>\n",
              "                        <td id=\"T_92dd42f6_6289_11eb_834e_0242ac1c0002row24_col0\" class=\"data row24 col0\" >GGA</td>\n",
              "                        <td id=\"T_92dd42f6_6289_11eb_834e_0242ac1c0002row24_col1\" class=\"data row24 col1\" >280</td>\n",
              "            </tr>\n",
              "            <tr>\n",
              "                        <th id=\"T_92dd42f6_6289_11eb_834e_0242ac1c0002level0_row25\" class=\"row_heading level0 row25\" >23</th>\n",
              "                        <td id=\"T_92dd42f6_6289_11eb_834e_0242ac1c0002row25_col0\" class=\"data row25 col0\" >CTC</td>\n",
              "                        <td id=\"T_92dd42f6_6289_11eb_834e_0242ac1c0002row25_col1\" class=\"data row25 col1\" >270</td>\n",
              "            </tr>\n",
              "            <tr>\n",
              "                        <th id=\"T_92dd42f6_6289_11eb_834e_0242ac1c0002level0_row26\" class=\"row_heading level0 row26\" >27</th>\n",
              "                        <td id=\"T_92dd42f6_6289_11eb_834e_0242ac1c0002row26_col0\" class=\"data row26 col0\" >GCC</td>\n",
              "                        <td id=\"T_92dd42f6_6289_11eb_834e_0242ac1c0002row26_col1\" class=\"data row26 col1\" >188</td>\n",
              "            </tr>\n",
              "            <tr>\n",
              "                        <th id=\"T_92dd42f6_6289_11eb_834e_0242ac1c0002level0_row27\" class=\"row_heading level0 row27\" >6</th>\n",
              "                        <td id=\"T_92dd42f6_6289_11eb_834e_0242ac1c0002row27_col0\" class=\"data row27 col0\" >ACG</td>\n",
              "                        <td id=\"T_92dd42f6_6289_11eb_834e_0242ac1c0002row27_col1\" class=\"data row27 col1\" >164</td>\n",
              "            </tr>\n",
              "            <tr>\n",
              "                        <th id=\"T_92dd42f6_6289_11eb_834e_0242ac1c0002level0_row28\" class=\"row_heading level0 row28\" >18</th>\n",
              "                        <td id=\"T_92dd42f6_6289_11eb_834e_0242ac1c0002row28_col0\" class=\"data row28 col0\" >CCC</td>\n",
              "                        <td id=\"T_92dd42f6_6289_11eb_834e_0242ac1c0002row28_col1\" class=\"data row28 col1\" >102</td>\n",
              "            </tr>\n",
              "            <tr>\n",
              "                        <th id=\"T_92dd42f6_6289_11eb_834e_0242ac1c0002level0_row29\" class=\"row_heading level0 row29\" >20</th>\n",
              "                        <td id=\"T_92dd42f6_6289_11eb_834e_0242ac1c0002row29_col0\" class=\"data row29 col0\" >CGA</td>\n",
              "                        <td id=\"T_92dd42f6_6289_11eb_834e_0242ac1c0002row29_col1\" class=\"data row29 col1\" >95</td>\n",
              "            </tr>\n",
              "            <tr>\n",
              "                        <th id=\"T_92dd42f6_6289_11eb_834e_0242ac1c0002level0_row30\" class=\"row_heading level0 row30\" >21</th>\n",
              "                        <td id=\"T_92dd42f6_6289_11eb_834e_0242ac1c0002row30_col0\" class=\"data row30 col0\" >CGC</td>\n",
              "                        <td id=\"T_92dd42f6_6289_11eb_834e_0242ac1c0002row30_col1\" class=\"data row30 col1\" >94</td>\n",
              "            </tr>\n",
              "            <tr>\n",
              "                        <th id=\"T_92dd42f6_6289_11eb_834e_0242ac1c0002level0_row31\" class=\"row_heading level0 row31\" >19</th>\n",
              "                        <td id=\"T_92dd42f6_6289_11eb_834e_0242ac1c0002row31_col0\" class=\"data row31 col0\" >CCG</td>\n",
              "                        <td id=\"T_92dd42f6_6289_11eb_834e_0242ac1c0002row31_col1\" class=\"data row31 col1\" >73</td>\n",
              "            </tr>\n",
              "    </tbody></table>"
            ],
            "text/plain": [
              "<pandas.io.formats.style.Styler at 0x7fa5718e7630>"
            ]
          },
          "metadata": {
            "tags": []
          },
          "execution_count": 30
        }
      ]
    },
    {
      "cell_type": "code",
      "metadata": {
        "colab": {
          "base_uri": "https://localhost:8080/",
          "height": 514
        },
        "id": "FWoalr54eTiB",
        "outputId": "2c30657d-9e59-4f02-9369-bb9faaa550a3"
      },
      "source": [
        "fig_dims = (12, 8)\n",
        "fig, ax = plt.subplots(figsize=fig_dims)\n",
        "sns.barplot(x=\"count\", y=\"trimer\", ax=ax, data=tri)"
      ],
      "execution_count": 32,
      "outputs": [
        {
          "output_type": "execute_result",
          "data": {
            "text/plain": [
              "<matplotlib.axes._subplots.AxesSubplot at 0x7fa5712253c8>"
            ]
          },
          "metadata": {
            "tags": []
          },
          "execution_count": 32
        },
        {
          "output_type": "display_data",
          "data": {
            "image/png": "[encoded data removed]",
            "text/plain": [
              "<Figure size 864x576 with 1 Axes>"
            ]
          },
          "metadata": {
            "tags": [],
            "needs_background": "light"
          }
        }
      ]
    },
    {
      "cell_type": "code",
      "metadata": {
        "id": "HSrAtDbNecim"
      },
      "source": [
        ""
      ],
      "execution_count": null,
      "outputs": []
    }
  ]
}